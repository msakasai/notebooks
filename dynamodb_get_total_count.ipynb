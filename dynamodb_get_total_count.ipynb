{
  "nbformat": 4,
  "nbformat_minor": 0,
  "metadata": {
    "kernelspec": {
      "display_name": "Python 3",
      "language": "python",
      "name": "python3"
    },
    "language_info": {
      "codemirror_mode": {
        "name": "ipython",
        "version": 3
      },
      "file_extension": ".py",
      "mimetype": "text/x-python",
      "name": "python",
      "nbconvert_exporter": "python",
      "pygments_lexer": "ipython3",
      "version": "3.8.3"
    },
    "colab": {
      "name": "dynamodb_get_total_count.ipynb",
      "provenance": []
    }
  },
  "cells": [
    {
      "cell_type": "markdown",
      "metadata": {
        "id": "xwuEXmGg9RPf",
        "colab_type": "text"
      },
      "source": [
        "# DynamoDBのテーブルから項目数を取得する"
      ]
    },
    {
      "cell_type": "code",
      "metadata": {
        "id": "_agzimAE9RPg",
        "colab_type": "code",
        "colab": {}
      },
      "source": [
        "import boto3\n",
        "from tqdm.notebook import tqdm"
      ],
      "execution_count": null,
      "outputs": []
    },
    {
      "cell_type": "markdown",
      "metadata": {
        "id": "HadMF0yT9RPj",
        "colab_type": "text"
      },
      "source": [
        "## AWS config設定"
      ]
    },
    {
      "cell_type": "code",
      "metadata": {
        "id": "rj6g1ma79RPj",
        "colab_type": "code",
        "colab": {}
      },
      "source": [
        "# ローカルPC上で `localstack` に接続する設定にしています\n",
        "aws_config = {\n",
        "   \"aws_access_key_id\": \"dummy\",\n",
        "   \"aws_secret_access_key\": \"dummy\",\n",
        "   \"region_name\": \"ap-northeast-1\",\n",
        "   \"endpoint_url\": \"http://localstack:4566\"\n",
        "}"
      ],
      "execution_count": null,
      "outputs": []
    },
    {
      "cell_type": "markdown",
      "metadata": {
        "id": "RFcYV4S79RPo",
        "colab_type": "text"
      },
      "source": [
        "## client インスタンスを生成"
      ]
    },
    {
      "cell_type": "code",
      "metadata": {
        "id": "x4VoBOWh9RPo",
        "colab_type": "code",
        "colab": {}
      },
      "source": [
        "client = boto3.client(service_name=\"dynamodb\", **aws_config)\n",
        "dynamodb = boto3.resource(service_name=\"dynamodb\", **aws_config)"
      ],
      "execution_count": null,
      "outputs": []
    },
    {
      "cell_type": "markdown",
      "metadata": {
        "id": "vHxDMAon9RPq",
        "colab_type": "text"
      },
      "source": [
        "## テーブルリスト取得"
      ]
    },
    {
      "cell_type": "code",
      "metadata": {
        "id": "wCzixTwf9RPr",
        "colab_type": "code",
        "colab": {},
        "outputId": "3528efa4-0cf3-4a45-a9af-7e1415bdd408"
      },
      "source": [
        "table_list = client.list_tables()\n",
        "table_list['TableNames']"
      ],
      "execution_count": null,
      "outputs": [
        {
          "output_type": "execute_result",
          "data": {
            "text/plain": [
              "['LocalTest']"
            ]
          },
          "metadata": {
            "tags": []
          },
          "execution_count": 7
        }
      ]
    },
    {
      "cell_type": "markdown",
      "metadata": {
        "id": "56IATBnK9RPu",
        "colab_type": "text"
      },
      "source": [
        "## テーブルの件数取得"
      ]
    },
    {
      "cell_type": "code",
      "metadata": {
        "id": "Bw5kD9jI9RPu",
        "colab_type": "code",
        "colab": {}
      },
      "source": [
        "# `LocalTest` テーブルの件数取得\n",
        "table = dynamodb.Table(\"LocalTest\")"
      ],
      "execution_count": null,
      "outputs": []
    },
    {
      "cell_type": "markdown",
      "metadata": {
        "id": "NovX7qjF9RPx",
        "colab_type": "text"
      },
      "source": [
        "### DynamoDB.Table.item_count"
      ]
    },
    {
      "cell_type": "code",
      "metadata": {
        "id": "JpPqCeRl9RPx",
        "colab_type": "code",
        "colab": {},
        "outputId": "0ab9d84b-8e46-4738-9359-b74b2c525e8d"
      },
      "source": [
        "# `item_count` は6時間ごとに更新された値が取得されます（ローカルの場合リアルタイムで取得できます）\n",
        "# https://boto3.amazonaws.com/v1/documentation/api/latest/reference/services/dynamodb.html#DynamoDB.Table.item_count\n",
        "table.item_count"
      ],
      "execution_count": null,
      "outputs": [
        {
          "output_type": "execute_result",
          "data": {
            "text/plain": [
              "100000"
            ]
          },
          "metadata": {
            "tags": []
          },
          "execution_count": 9
        }
      ]
    },
    {
      "cell_type": "markdown",
      "metadata": {
        "id": "BSHQQsx99RP3",
        "colab_type": "text"
      },
      "source": [
        "### DynamoDB.Table.scan"
      ]
    },
    {
      "cell_type": "code",
      "metadata": {
        "id": "GcMSVnAm9RP3",
        "colab_type": "code",
        "colab": {},
        "outputId": "1d76ef8b-8310-49e3-cd21-32b628870683"
      },
      "source": [
        "# `scan` で一度に取得できるデータサイズは最大1MBに制限されています。\n",
        "# 条件なしで `COUNT` を取得しても1MBまでの件数しか取得できません。\n",
        "# https://boto3.amazonaws.com/v1/documentation/api/latest/reference/services/dynamodb.html#DynamoDB.Table.scan\n",
        "ret = table.scan(Select='COUNT')\n",
        "ret['Count']"
      ],
      "execution_count": null,
      "outputs": [
        {
          "output_type": "execute_result",
          "data": {
            "text/plain": [
              "16298"
            ]
          },
          "metadata": {
            "tags": []
          },
          "execution_count": 11
        }
      ]
    },
    {
      "cell_type": "markdown",
      "metadata": {
        "id": "rvIN5aQL9RP6",
        "colab_type": "text"
      },
      "source": [
        "### DynamoDB.Table.scan with Pagenator"
      ]
    },
    {
      "cell_type": "code",
      "metadata": {
        "id": "YSnQK-NY9RP7",
        "colab_type": "code",
        "colab": {
          "referenced_widgets": [
            "d77034867ac34edf90e1ac4615878ecb"
          ]
        },
        "outputId": "ee2b7969-2460-476e-aaa1-4bfa98a16c6a"
      },
      "source": [
        "# `item_count` および `scan` の制限を回避して全項目を取得する方法として、 `scan` の説明にあるようにページ分割をして取得する方法があります。\n",
        "# 以下、全項目数（レコード数）を取得する例を示していますが、 `page[\"Items\"]` で項目も取得できます。\n",
        "total = 0\n",
        "paginator = client.get_paginator(\"scan\")\n",
        "for page in tqdm(paginator.paginate(TableName=\"LocalTest\", PaginationConfig={\n",
        "        'MaxItems': 500000 # 全項目数より大きな値を設定\n",
        "    })):\n",
        "    total += page['Count']\n",
        "    print(total, end='->')\n",
        "print(total)"
      ],
      "execution_count": null,
      "outputs": [
        {
          "output_type": "display_data",
          "data": {
            "application/vnd.jupyter.widget-view+json": {
              "model_id": "d77034867ac34edf90e1ac4615878ecb",
              "version_major": 2,
              "version_minor": 0
            },
            "text/plain": [
              "HBox(children=(FloatProgress(value=1.0, bar_style='info', layout=Layout(width='20px'), max=1.0), HTML(value=''…"
            ]
          },
          "metadata": {
            "tags": []
          }
        },
        {
          "output_type": "stream",
          "text": [
            "16298->32589->48879->65183->81475->97776->100000->\n",
            "100000\n"
          ],
          "name": "stdout"
        }
      ]
    },
    {
      "cell_type": "code",
      "metadata": {
        "id": "wri2oJNc9RP-",
        "colab_type": "code",
        "colab": {}
      },
      "source": [
        ""
      ],
      "execution_count": null,
      "outputs": []
    }
  ]
}