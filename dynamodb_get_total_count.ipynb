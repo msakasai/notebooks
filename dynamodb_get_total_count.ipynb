{
 "cells": [
  {
   "cell_type": "markdown",
   "metadata": {},
   "source": [
    "# DynamoDBのテーブルから項目数を取得する"
   ]
  },
  {
   "cell_type": "code",
   "execution_count": 1,
   "metadata": {},
   "outputs": [],
   "source": [
    "import boto3\n",
    "from tqdm.notebook import tqdm"
   ]
  },
  {
   "cell_type": "markdown",
   "metadata": {},
   "source": [
    "## AWS config設定"
   ]
  },
  {
   "cell_type": "code",
   "execution_count": 3,
   "metadata": {},
   "outputs": [],
   "source": [
    "# ローカルPC上で `localstack` に接続する設定にしています\n",
    "aws_config = {\n",
    "   \"aws_access_key_id\": \"dummy\",\n",
    "   \"aws_secret_access_key\": \"dummy\",\n",
    "   \"region_name\": \"ap-northeast-1\",\n",
    "   \"endpoint_url\": \"http://localstack:4566\"\n",
    "}"
   ]
  },
  {
   "cell_type": "markdown",
   "metadata": {},
   "source": [
    "## client インスタンスを生成"
   ]
  },
  {
   "cell_type": "code",
   "execution_count": 5,
   "metadata": {},
   "outputs": [],
   "source": [
    "client = boto3.client(service_name=\"dynamodb\", **aws_config)\n",
    "dynamodb = boto3.resource(service_name=\"dynamodb\", **aws_config)"
   ]
  },
  {
   "cell_type": "markdown",
   "metadata": {},
   "source": [
    "## テーブルリスト取得"
   ]
  },
  {
   "cell_type": "code",
   "execution_count": 7,
   "metadata": {},
   "outputs": [
    {
     "data": {
      "text/plain": [
       "['LocalTest']"
      ]
     },
     "execution_count": 7,
     "metadata": {},
     "output_type": "execute_result"
    }
   ],
   "source": [
    "table_list = client.list_tables()\n",
    "table_list['TableNames']"
   ]
  },
  {
   "cell_type": "markdown",
   "metadata": {},
   "source": [
    "## テーブルの件数取得"
   ]
  },
  {
   "cell_type": "code",
   "execution_count": 8,
   "metadata": {},
   "outputs": [],
   "source": [
    "# `LocalTest` テーブルの件数取得\n",
    "table = dynamodb.Table(\"LocalTest\")"
   ]
  },
  {
   "cell_type": "markdown",
   "metadata": {},
   "source": [
    "### DynamoDB.Table.item_count"
   ]
  },
  {
   "cell_type": "code",
   "execution_count": 9,
   "metadata": {},
   "outputs": [
    {
     "data": {
      "text/plain": [
       "100000"
      ]
     },
     "execution_count": 9,
     "metadata": {},
     "output_type": "execute_result"
    }
   ],
   "source": [
    "# `item_count` は6時間ごとに更新された値が取得されます（ローカルの場合リアルタイムで取得できます）\n",
    "# https://boto3.amazonaws.com/v1/documentation/api/latest/reference/services/dynamodb.html#DynamoDB.Table.item_count\n",
    "table.item_count"
   ]
  },
  {
   "cell_type": "markdown",
   "metadata": {},
   "source": [
    "### DynamoDB.Table.scan"
   ]
  },
  {
   "cell_type": "code",
   "execution_count": 11,
   "metadata": {},
   "outputs": [
    {
     "data": {
      "text/plain": [
       "16298"
      ]
     },
     "execution_count": 11,
     "metadata": {},
     "output_type": "execute_result"
    }
   ],
   "source": [
    "# `scan` で一度に取得できるデータサイズは最大1MBに制限されています。\n",
    "# 条件なしで `COUNT` を取得しても1MBまでの件数しか取得できません。\n",
    "# https://boto3.amazonaws.com/v1/documentation/api/latest/reference/services/dynamodb.html#DynamoDB.Table.scan\n",
    "ret = table.scan(Select='COUNT')\n",
    "ret['Count']"
   ]
  },
  {
   "cell_type": "markdown",
   "metadata": {},
   "source": [
    "### DynamoDB.Table.scan with Pagenator"
   ]
  },
  {
   "cell_type": "code",
   "execution_count": 13,
   "metadata": {},
   "outputs": [
    {
     "data": {
      "application/vnd.jupyter.widget-view+json": {
       "model_id": "d77034867ac34edf90e1ac4615878ecb",
       "version_major": 2,
       "version_minor": 0
      },
      "text/plain": [
       "HBox(children=(FloatProgress(value=1.0, bar_style='info', layout=Layout(width='20px'), max=1.0), HTML(value=''…"
      ]
     },
     "metadata": {},
     "output_type": "display_data"
    },
    {
     "name": "stdout",
     "output_type": "stream",
     "text": [
      "16298->32589->48879->65183->81475->97776->100000->\n",
      "100000\n"
     ]
    }
   ],
   "source": [
    "# `item_count` および `scan` の制限を回避して全項目を取得する方法として、 `scan` の説明にあるようにページ分割をして取得する方法があります。\n",
    "# 以下、全項目数（レコード数）を取得する例を示していますが、 `page[\"Items\"]` で項目も取得できます。\n",
    "total = 0\n",
    "paginator = client.get_paginator(\"scan\")\n",
    "for page in tqdm(paginator.paginate(TableName=\"LocalTest\", PaginationConfig={\n",
    "        'MaxItems': 500000 # 全項目数より大きな値を設定\n",
    "    })):\n",
    "    total += page['Count']\n",
    "    print(total, end='->')\n",
    "print(total)"
   ]
  },
  {
   "cell_type": "code",
   "execution_count": null,
   "metadata": {},
   "outputs": [],
   "source": []
  }
 ],
 "metadata": {
  "kernelspec": {
   "display_name": "Python 3",
   "language": "python",
   "name": "python3"
  },
  "language_info": {
   "codemirror_mode": {
    "name": "ipython",
    "version": 3
   },
   "file_extension": ".py",
   "mimetype": "text/x-python",
   "name": "python",
   "nbconvert_exporter": "python",
   "pygments_lexer": "ipython3",
   "version": "3.8.3"
  }
 },
 "nbformat": 4,
 "nbformat_minor": 4
}
